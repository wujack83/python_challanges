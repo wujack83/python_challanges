{
 "cells": [
  {
   "cell_type": "code",
   "execution_count": 111,
   "id": "4e781347-3f05-4129-84a4-3e2e6e1ce77a",
   "metadata": {},
   "outputs": [],
   "source": [
    "def extract_digits(number):\n",
    "    result = []\n",
    "    while number > 0:\n",
    "        digit = number % 10\n",
    "        number = number // 10\n",
    "        result.append(digit)\n",
    "    return ', '.join([str(item) for item in result[::-1]])"
   ]
  },
  {
   "cell_type": "code",
   "execution_count": 112,
   "id": "a3bee0e1-7017-4b44-9891-38e6214569d6",
   "metadata": {},
   "outputs": [
    {
     "data": {
      "text/plain": [
       "'1, 2, 2, 5'"
      ]
     },
     "execution_count": 112,
     "metadata": {},
     "output_type": "execute_result"
    }
   ],
   "source": [
    "a = extract_digits(1225)\n",
    "a"
   ]
  },
  {
   "cell_type": "code",
   "execution_count": 100,
   "id": "0eac0778-e49c-4d57-8940-f5c0f16a330f",
   "metadata": {},
   "outputs": [
    {
     "data": {
      "text/plain": [
       "3"
      ]
     },
     "execution_count": 100,
     "metadata": {},
     "output_type": "execute_result"
    }
   ],
   "source": [
    "def count_digits(number):\n",
    "    count = 0\n",
    "    while number > 0:\n",
    "        number = number // 10\n",
    "        count += 1\n",
    "    return count\n",
    "\n",
    "count_digits(122)"
   ]
  },
  {
   "cell_type": "code",
   "execution_count": 54,
   "id": "65cbb7f8-ff59-4e82-87af-e45ba7b86578",
   "metadata": {},
   "outputs": [
    {
     "data": {
      "text/plain": [
       "[1, 2, 11]"
      ]
     },
     "execution_count": 54,
     "metadata": {},
     "output_type": "execute_result"
    }
   ],
   "source": [
    "def find_proper_divisors(number):\n",
    "    divisors = []\n",
    "    \n",
    "    for i in range (1, number // 2 + 1):\n",
    "        if number % i == 0:\n",
    "            divisors.append(i)\n",
    "    return divisors\n",
    "\n",
    "find_proper_divisors(22)"
   ]
  },
  {
   "cell_type": "code",
   "execution_count": 56,
   "id": "afbbf45d-20cc-4569-b58e-b228a4b60c00",
   "metadata": {},
   "outputs": [
    {
     "data": {
      "text/plain": [
       "[1, 2, 3, 4, 6, 8, 12]"
      ]
     },
     "execution_count": 56,
     "metadata": {},
     "output_type": "execute_result"
    }
   ],
   "source": [
    "#Als List Comprehemsion\n",
    "\n",
    "def find_proper_divisors(value):\n",
    "    return [i for i in range(1, value // 2 + 1) if value % i == 0]\n",
    "find_proper_divisors(24)"
   ]
  },
  {
   "cell_type": "code",
   "execution_count": 61,
   "id": "8e246bf3-1ff8-4562-be4d-4fd79ad1e543",
   "metadata": {},
   "outputs": [
    {
     "name": "stdout",
     "output_type": "stream",
     "text": [
      "False True\n"
     ]
    }
   ],
   "source": [
    "def is_prime(potentially_prime):\n",
    "    for i in range(2, potentially_prime // 2 + 1):\n",
    "        if potentially_prime % i == 0:\n",
    "            return False\n",
    "    return True\n",
    "\n",
    "print(is_prime(9), is_prime(11))"
   ]
  },
  {
   "cell_type": "code",
   "execution_count": 67,
   "id": "77ce0824-188b-46e7-bb93-8cf87e46ef5d",
   "metadata": {},
   "outputs": [
    {
     "name": "stdout",
     "output_type": "stream",
     "text": [
      "[2, 3, 5, 7, 11, 13, 17, 19, 23]\n"
     ]
    }
   ],
   "source": [
    "primes = []\n",
    "\n",
    "for number in range(2,25):\n",
    "    if is_prime(number):\n",
    "        primes.append(number)\n",
    "        \n",
    "print(primes)"
   ]
  },
  {
   "cell_type": "code",
   "execution_count": 68,
   "id": "308a46ed-d946-4eed-a8bc-f0abfad078b1",
   "metadata": {},
   "outputs": [
    {
     "name": "stdout",
     "output_type": "stream",
     "text": [
      "[2, 3, 5, 7, 11, 13, 17, 19, 23]\n"
     ]
    }
   ],
   "source": [
    "primes = [number for number in range(2,25) if is_prime(number)]\n",
    "        \n",
    "print(primes)"
   ]
  },
  {
   "cell_type": "code",
   "execution_count": null,
   "id": "a14c5edb-504e-4934-8135-5516adc42a3c",
   "metadata": {},
   "outputs": [],
   "source": []
  }
 ],
 "metadata": {
  "kernelspec": {
   "display_name": "Python 3 (ipykernel)",
   "language": "python",
   "name": "python3"
  },
  "language_info": {
   "codemirror_mode": {
    "name": "ipython",
    "version": 3
   },
   "file_extension": ".py",
   "mimetype": "text/x-python",
   "name": "python",
   "nbconvert_exporter": "python",
   "pygments_lexer": "ipython3",
   "version": "3.9.7"
  }
 },
 "nbformat": 4,
 "nbformat_minor": 5
}
